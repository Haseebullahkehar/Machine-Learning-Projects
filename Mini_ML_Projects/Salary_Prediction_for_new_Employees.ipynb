{
  "nbformat": 4,
  "nbformat_minor": 0,
  "metadata": {
    "colab": {
      "provenance": []
    },
    "kernelspec": {
      "name": "python3",
      "display_name": "Python 3"
    },
    "language_info": {
      "name": "python"
    }
  },
  "cells": [
    {
      "cell_type": "markdown",
      "source": [
        "**Proplem Statement:**\n",
        "        **Q#3: Create a Model which predict salary accurately for newly joined Developers based on thei**\n",
        "        \n",
        "  **Experience    test_score     interview_score    Salary**"
      ],
      "metadata": {
        "id": "52K5I0jC9-RJ"
      }
    },
    {
      "cell_type": "code",
      "source": [
        "import warnings\n",
        "warnings.filterwarnings('ignore')\n"
      ],
      "metadata": {
        "id": "EaASX8k_Xr4A"
      },
      "execution_count": null,
      "outputs": []
    },
    {
      "cell_type": "code",
      "execution_count": null,
      "metadata": {
        "id": "XGmRmesB9xRI"
      },
      "outputs": [],
      "source": [
        "import pandas as pd\n",
        "import numpy as np\n",
        "from sklearn.model_selection import train_test_split\n",
        "from sklearn.linear_model import LinearRegression"
      ]
    },
    {
      "cell_type": "code",
      "source": [
        "data = {\"experience-Years\":[8,5,5,4,6,8,5,7,9,7,10], \"test_score\": [9.0,6.0,6.0,7.0,6.0,8.0,5.0,7.0,9.0,7.0,10.0], \"interview_score\":[8,7,6,3,5,7,6,7,8,7,10], \"salary\":[80000,65000,60000,45000,50000,70000,50000,65000,85000,80000,100000]}\n",
        "df = pd.DataFrame(data)\n",
        "print(df)"
      ],
      "metadata": {
        "colab": {
          "base_uri": "https://localhost:8080/"
        },
        "id": "02v2CuXG_9JH",
        "outputId": "7b8b56de-588a-4f4f-ae3e-f5992323a8bd"
      },
      "execution_count": null,
      "outputs": [
        {
          "output_type": "stream",
          "name": "stdout",
          "text": [
            "    experience-Years  test_score  interview_score  salary\n",
            "0                  8         9.0                8   80000\n",
            "1                  5         6.0                7   65000\n",
            "2                  5         6.0                6   60000\n",
            "3                  4         7.0                3   45000\n",
            "4                  6         6.0                5   50000\n",
            "5                  8         8.0                7   70000\n",
            "6                  5         5.0                6   50000\n",
            "7                  7         7.0                7   65000\n",
            "8                  9         9.0                8   85000\n",
            "9                  7         7.0                7   80000\n",
            "10                10        10.0               10  100000\n"
          ]
        }
      ]
    },
    {
      "cell_type": "code",
      "source": [
        "df.info()"
      ],
      "metadata": {
        "colab": {
          "base_uri": "https://localhost:8080/"
        },
        "id": "kkyb32d4CNrx",
        "outputId": "74a53e4e-d1aa-4653-98a8-8f2ba6796aa0"
      },
      "execution_count": null,
      "outputs": [
        {
          "output_type": "stream",
          "name": "stdout",
          "text": [
            "<class 'pandas.core.frame.DataFrame'>\n",
            "RangeIndex: 11 entries, 0 to 10\n",
            "Data columns (total 4 columns):\n",
            " #   Column            Non-Null Count  Dtype  \n",
            "---  ------            --------------  -----  \n",
            " 0   experience-Years  11 non-null     int64  \n",
            " 1   test_score        11 non-null     float64\n",
            " 2   interview_score   11 non-null     int64  \n",
            " 3   salary            11 non-null     int64  \n",
            "dtypes: float64(1), int64(3)\n",
            "memory usage: 480.0 bytes\n"
          ]
        }
      ]
    },
    {
      "cell_type": "code",
      "source": [
        "df.shape"
      ],
      "metadata": {
        "colab": {
          "base_uri": "https://localhost:8080/"
        },
        "id": "pXnm7f0wDFrG",
        "outputId": "63199a4b-3ff3-43fa-cc80-75bc81577766"
      },
      "execution_count": null,
      "outputs": [
        {
          "output_type": "execute_result",
          "data": {
            "text/plain": [
              "(11, 4)"
            ]
          },
          "metadata": {},
          "execution_count": 30
        }
      ]
    },
    {
      "source": [
        "# split feature var (X) and target var(y)\n",
        "\n",
        "X = df.drop([\"salary\"], axis = 1)\n",
        "y = df[\"salary\"]\n",
        "\n",
        "print(X)\n"
      ],
      "cell_type": "code",
      "metadata": {
        "colab": {
          "base_uri": "https://localhost:8080/"
        },
        "id": "RPMH4DRYPKsQ",
        "outputId": "827b7dc6-d145-4c43-e8b7-8886b6ff9ae2"
      },
      "execution_count": null,
      "outputs": [
        {
          "output_type": "stream",
          "name": "stdout",
          "text": [
            "    experience-Years  test_score  interview_score\n",
            "0                  8         9.0                8\n",
            "1                  5         6.0                7\n",
            "2                  5         6.0                6\n",
            "3                  4         7.0                3\n",
            "4                  6         6.0                5\n",
            "5                  8         8.0                7\n",
            "6                  5         5.0                6\n",
            "7                  7         7.0                7\n",
            "8                  9         9.0                8\n",
            "9                  7         7.0                7\n",
            "10                10        10.0               10\n"
          ]
        }
      ]
    },
    {
      "cell_type": "code",
      "source": [
        "print(y)"
      ],
      "metadata": {
        "colab": {
          "base_uri": "https://localhost:8080/"
        },
        "id": "iUCzHeQ7DkFO",
        "outputId": "5da16b4f-2195-4850-e6fc-d9adfedf4ec5"
      },
      "execution_count": null,
      "outputs": [
        {
          "output_type": "stream",
          "name": "stdout",
          "text": [
            "0      80000\n",
            "1      65000\n",
            "2      60000\n",
            "3      45000\n",
            "4      50000\n",
            "5      70000\n",
            "6      50000\n",
            "7      65000\n",
            "8      85000\n",
            "9      80000\n",
            "10    100000\n",
            "Name: salary, dtype: int64\n"
          ]
        }
      ]
    },
    {
      "cell_type": "code",
      "source": [
        "# split the data\n",
        "\n",
        "X_train, X_test, y_train, y_test = train_test_split(X,y,test_size = 0.2, random_state=42)"
      ],
      "metadata": {
        "id": "WVcd4Lp3Rq_U"
      },
      "execution_count": null,
      "outputs": []
    },
    {
      "cell_type": "code",
      "source": [
        "model = LinearRegression()"
      ],
      "metadata": {
        "id": "9RXL1cCKSYNk"
      },
      "execution_count": null,
      "outputs": []
    },
    {
      "cell_type": "code",
      "source": [
        "model.fit(X_train,y_train)"
      ],
      "metadata": {
        "colab": {
          "base_uri": "https://localhost:8080/",
          "height": 74
        },
        "id": "P0ZaRwelSe6G",
        "outputId": "38cc8a76-bd63-4ec1-eac2-cbfc2f79292b"
      },
      "execution_count": null,
      "outputs": [
        {
          "output_type": "execute_result",
          "data": {
            "text/plain": [
              "LinearRegression()"
            ],
            "text/html": [
              "<style>#sk-container-id-1 {color: black;background-color: white;}#sk-container-id-1 pre{padding: 0;}#sk-container-id-1 div.sk-toggleable {background-color: white;}#sk-container-id-1 label.sk-toggleable__label {cursor: pointer;display: block;width: 100%;margin-bottom: 0;padding: 0.3em;box-sizing: border-box;text-align: center;}#sk-container-id-1 label.sk-toggleable__label-arrow:before {content: \"▸\";float: left;margin-right: 0.25em;color: #696969;}#sk-container-id-1 label.sk-toggleable__label-arrow:hover:before {color: black;}#sk-container-id-1 div.sk-estimator:hover label.sk-toggleable__label-arrow:before {color: black;}#sk-container-id-1 div.sk-toggleable__content {max-height: 0;max-width: 0;overflow: hidden;text-align: left;background-color: #f0f8ff;}#sk-container-id-1 div.sk-toggleable__content pre {margin: 0.2em;color: black;border-radius: 0.25em;background-color: #f0f8ff;}#sk-container-id-1 input.sk-toggleable__control:checked~div.sk-toggleable__content {max-height: 200px;max-width: 100%;overflow: auto;}#sk-container-id-1 input.sk-toggleable__control:checked~label.sk-toggleable__label-arrow:before {content: \"▾\";}#sk-container-id-1 div.sk-estimator input.sk-toggleable__control:checked~label.sk-toggleable__label {background-color: #d4ebff;}#sk-container-id-1 div.sk-label input.sk-toggleable__control:checked~label.sk-toggleable__label {background-color: #d4ebff;}#sk-container-id-1 input.sk-hidden--visually {border: 0;clip: rect(1px 1px 1px 1px);clip: rect(1px, 1px, 1px, 1px);height: 1px;margin: -1px;overflow: hidden;padding: 0;position: absolute;width: 1px;}#sk-container-id-1 div.sk-estimator {font-family: monospace;background-color: #f0f8ff;border: 1px dotted black;border-radius: 0.25em;box-sizing: border-box;margin-bottom: 0.5em;}#sk-container-id-1 div.sk-estimator:hover {background-color: #d4ebff;}#sk-container-id-1 div.sk-parallel-item::after {content: \"\";width: 100%;border-bottom: 1px solid gray;flex-grow: 1;}#sk-container-id-1 div.sk-label:hover label.sk-toggleable__label {background-color: #d4ebff;}#sk-container-id-1 div.sk-serial::before {content: \"\";position: absolute;border-left: 1px solid gray;box-sizing: border-box;top: 0;bottom: 0;left: 50%;z-index: 0;}#sk-container-id-1 div.sk-serial {display: flex;flex-direction: column;align-items: center;background-color: white;padding-right: 0.2em;padding-left: 0.2em;position: relative;}#sk-container-id-1 div.sk-item {position: relative;z-index: 1;}#sk-container-id-1 div.sk-parallel {display: flex;align-items: stretch;justify-content: center;background-color: white;position: relative;}#sk-container-id-1 div.sk-item::before, #sk-container-id-1 div.sk-parallel-item::before {content: \"\";position: absolute;border-left: 1px solid gray;box-sizing: border-box;top: 0;bottom: 0;left: 50%;z-index: -1;}#sk-container-id-1 div.sk-parallel-item {display: flex;flex-direction: column;z-index: 1;position: relative;background-color: white;}#sk-container-id-1 div.sk-parallel-item:first-child::after {align-self: flex-end;width: 50%;}#sk-container-id-1 div.sk-parallel-item:last-child::after {align-self: flex-start;width: 50%;}#sk-container-id-1 div.sk-parallel-item:only-child::after {width: 0;}#sk-container-id-1 div.sk-dashed-wrapped {border: 1px dashed gray;margin: 0 0.4em 0.5em 0.4em;box-sizing: border-box;padding-bottom: 0.4em;background-color: white;}#sk-container-id-1 div.sk-label label {font-family: monospace;font-weight: bold;display: inline-block;line-height: 1.2em;}#sk-container-id-1 div.sk-label-container {text-align: center;}#sk-container-id-1 div.sk-container {/* jupyter's `normalize.less` sets `[hidden] { display: none; }` but bootstrap.min.css set `[hidden] { display: none !important; }` so we also need the `!important` here to be able to override the default hidden behavior on the sphinx rendered scikit-learn.org. See: https://github.com/scikit-learn/scikit-learn/issues/21755 */display: inline-block !important;position: relative;}#sk-container-id-1 div.sk-text-repr-fallback {display: none;}</style><div id=\"sk-container-id-1\" class=\"sk-top-container\"><div class=\"sk-text-repr-fallback\"><pre>LinearRegression()</pre><b>In a Jupyter environment, please rerun this cell to show the HTML representation or trust the notebook. <br />On GitHub, the HTML representation is unable to render, please try loading this page with nbviewer.org.</b></div><div class=\"sk-container\" hidden><div class=\"sk-item\"><div class=\"sk-estimator sk-toggleable\"><input class=\"sk-toggleable__control sk-hidden--visually\" id=\"sk-estimator-id-1\" type=\"checkbox\" checked><label for=\"sk-estimator-id-1\" class=\"sk-toggleable__label sk-toggleable__label-arrow\">LinearRegression</label><div class=\"sk-toggleable__content\"><pre>LinearRegression()</pre></div></div></div></div></div>"
            ]
          },
          "metadata": {},
          "execution_count": 41
        }
      ]
    },
    {
      "cell_type": "code",
      "source": [
        "predicted = model.predict(X_test)\n",
        "for i in predicted:\n",
        "  print(f\"Model Predicted Result: {i:0.2f}\")"
      ],
      "metadata": {
        "colab": {
          "base_uri": "https://localhost:8080/"
        },
        "id": "KNwkkUcoSwla",
        "outputId": "06e8d53f-378d-4c4b-fd7f-e4f85caed808"
      },
      "execution_count": null,
      "outputs": [
        {
          "output_type": "stream",
          "name": "stdout",
          "text": [
            "Model Predicted Result: 71754.26\n",
            "Model Predicted Result: 84900.57\n",
            "Model Predicted Result: 67194.60\n"
          ]
        }
      ]
    },
    {
      "cell_type": "markdown",
      "source": [
        "**Now we will check if model works perfectly fine taking input from a user**"
      ],
      "metadata": {
        "id": "U2Otw55JVBXv"
      }
    },
    {
      "cell_type": "code",
      "source": [
        "user_experience = float(input(\"Enter user_experienc: \"))\n",
        "user_test_score = int(input(\"Enter test_score : \"))\n",
        "user_interview_score = int(input(\"Enter interview_score: \"))\n",
        "# saving it into 2D array using numpy\n",
        "user_data = np.array([[user_experience,user_test_score, user_interview_score]])\n",
        "prediction = model.predict(user_data)\n",
        "for i in prediction:\n",
        "  print(f\"The accurately salary Prediction : {i:0.2f}\")\n"
      ],
      "metadata": {
        "colab": {
          "base_uri": "https://localhost:8080/"
        },
        "id": "YoB5snefU3K6",
        "outputId": "c2a83daa-1652-4864-9503-f0e6395275cb"
      },
      "execution_count": null,
      "outputs": [
        {
          "output_type": "stream",
          "name": "stdout",
          "text": [
            "Enter user_experienc: 3\n",
            "Enter test_score : 4\n",
            "Enter interview_score: 7\n",
            "The accurately salary Prediction : 55381.16\n"
          ]
        }
      ]
    },
    {
      "cell_type": "code",
      "source": [],
      "metadata": {
        "id": "79mj09b0WoHu"
      },
      "execution_count": null,
      "outputs": []
    }
  ]
}