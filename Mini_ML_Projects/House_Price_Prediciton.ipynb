{
  "nbformat": 4,
  "nbformat_minor": 0,
  "metadata": {
    "colab": {
      "provenance": []
    },
    "kernelspec": {
      "name": "python3",
      "display_name": "Python 3"
    },
    "language_info": {
      "name": "python"
    }
  },
  "cells": [
    {
      "cell_type": "markdown",
      "source": [
        "**Q2: Create a Model which Predicts the Price based on the Area**"
      ],
      "metadata": {
        "id": "UfqLCkYCsBMX"
      }
    },
    {
      "cell_type": "markdown",
      "source": [
        "#**Area         Bedrooms     Age          Price**"
      ],
      "metadata": {
        "id": "uQImCXp5sRjg"
      }
    },
    {
      "cell_type": "code",
      "execution_count": null,
      "metadata": {
        "id": "7SKx8wCtrogq"
      },
      "outputs": [],
      "source": [
        "import pandas as pd\n",
        "import numpy as np\n",
        "from sklearn.model_selection import train_test_split\n",
        "from sklearn.linear_model import LinearRegression"
      ]
    },
    {
      "cell_type": "code",
      "source": [
        "# data = {\"Area\":[2000,2200], \"Bedrooms\":[4,5], \"Age\":[12,5], \"price\":[4000,4400]}\n",
        "# df = pd.DataFrame(data)\n",
        "# print(df)"
      ],
      "metadata": {
        "id": "FY0oBoKas3FZ"
      },
      "execution_count": null,
      "outputs": []
    },
    {
      "cell_type": "code",
      "source": [
        "df = pd.read_csv(\"/content/Price_prediction.csv\")\n",
        "print(df)"
      ],
      "metadata": {
        "colab": {
          "base_uri": "https://localhost:8080/"
        },
        "id": "Z6Ov4K8itogn",
        "outputId": "e9eb76b6-21fb-4874-c6f5-2e8aa18d4962"
      },
      "execution_count": null,
      "outputs": [
        {
          "output_type": "stream",
          "name": "stdout",
          "text": [
            "        Price  Area  Bedrooms  Age\n",
            "0    13300000  7420         4    4\n",
            "1    12250000  8960         4   14\n",
            "2    12250000  9960         3    3\n",
            "3    12215000  7500         4    3\n",
            "4    11410000  7420         4   14\n",
            "..        ...   ...       ...  ...\n",
            "540   1820000  3000         2    2\n",
            "541   1767150  2400         3   15\n",
            "542   1750000  3620         2    9\n",
            "543   1750000  2910         3    7\n",
            "544   1750000  3850         3   15\n",
            "\n",
            "[545 rows x 4 columns]\n"
          ]
        }
      ]
    },
    {
      "cell_type": "code",
      "source": [
        "df.info()\n",
        "\n",
        "\n"
      ],
      "metadata": {
        "colab": {
          "base_uri": "https://localhost:8080/"
        },
        "id": "vfAiPT3dvHM0",
        "outputId": "69b51cc5-92cb-4f53-c1e0-73e335720e33"
      },
      "execution_count": null,
      "outputs": [
        {
          "output_type": "stream",
          "name": "stdout",
          "text": [
            "<class 'pandas.core.frame.DataFrame'>\n",
            "RangeIndex: 545 entries, 0 to 544\n",
            "Data columns (total 4 columns):\n",
            " #   Column    Non-Null Count  Dtype\n",
            "---  ------    --------------  -----\n",
            " 0   Price     545 non-null    int64\n",
            " 1   Area      545 non-null    int64\n",
            " 2   Bedrooms  545 non-null    int64\n",
            " 3   Age       545 non-null    int64\n",
            "dtypes: int64(4)\n",
            "memory usage: 17.2 KB\n"
          ]
        }
      ]
    },
    {
      "cell_type": "code",
      "source": [
        "df.shape"
      ],
      "metadata": {
        "colab": {
          "base_uri": "https://localhost:8080/"
        },
        "id": "_slNXjgGO1WU",
        "outputId": "fdb38ec2-4505-4220-cbc1-868e350090b5"
      },
      "execution_count": null,
      "outputs": [
        {
          "output_type": "execute_result",
          "data": {
            "text/plain": [
              "(545, 4)"
            ]
          },
          "metadata": {},
          "execution_count": 8
        }
      ]
    },
    {
      "cell_type": "code",
      "source": [
        "# checking null values\n",
        "df.isnull().sum()"
      ],
      "metadata": {
        "colab": {
          "base_uri": "https://localhost:8080/"
        },
        "id": "uyinCp5AScBW",
        "outputId": "73ad4b2d-b591-4665-d5ce-e81f15365a09"
      },
      "execution_count": null,
      "outputs": [
        {
          "output_type": "execute_result",
          "data": {
            "text/plain": [
              "Price       0\n",
              "Area        0\n",
              "Bedrooms    0\n",
              "Age         0\n",
              "dtype: int64"
            ]
          },
          "metadata": {},
          "execution_count": 9
        }
      ]
    },
    {
      "cell_type": "code",
      "source": [
        "X= df.drop([\"Price\"], axis=1)\n",
        "y = df[\"Price\"]\n",
        "\n",
        "print(X)"
      ],
      "metadata": {
        "colab": {
          "base_uri": "https://localhost:8080/"
        },
        "id": "jrlWNST5SiGh",
        "outputId": "68a4f81a-88b9-4ff6-e5d6-b9f7f17de1d3"
      },
      "execution_count": null,
      "outputs": [
        {
          "output_type": "stream",
          "name": "stdout",
          "text": [
            "     Area  Bedrooms  Age\n",
            "0    7420         4    4\n",
            "1    8960         4   14\n",
            "2    9960         3    3\n",
            "3    7500         4    3\n",
            "4    7420         4   14\n",
            "..    ...       ...  ...\n",
            "540  3000         2    2\n",
            "541  2400         3   15\n",
            "542  3620         2    9\n",
            "543  2910         3    7\n",
            "544  3850         3   15\n",
            "\n",
            "[545 rows x 3 columns]\n"
          ]
        }
      ]
    },
    {
      "cell_type": "code",
      "source": [
        "y"
      ],
      "metadata": {
        "colab": {
          "base_uri": "https://localhost:8080/"
        },
        "id": "3nWoWt2KThZ7",
        "outputId": "3ae63e21-c675-4129-f76d-598f96493b43"
      },
      "execution_count": null,
      "outputs": [
        {
          "output_type": "execute_result",
          "data": {
            "text/plain": [
              "0      13300000\n",
              "1      12250000\n",
              "2      12250000\n",
              "3      12215000\n",
              "4      11410000\n",
              "         ...   \n",
              "540     1820000\n",
              "541     1767150\n",
              "542     1750000\n",
              "543     1750000\n",
              "544     1750000\n",
              "Name: Price, Length: 545, dtype: int64"
            ]
          },
          "metadata": {},
          "execution_count": 13
        }
      ]
    },
    {
      "cell_type": "code",
      "source": [
        "X_train, X_test, y_train, y_tes = train_test_split(X,y, test_size=0.2,random_state=42)"
      ],
      "metadata": {
        "id": "p8svCDEJTn85"
      },
      "execution_count": null,
      "outputs": []
    },
    {
      "cell_type": "code",
      "source": [
        "model = LinearRegression()"
      ],
      "metadata": {
        "id": "CMdz34ErUGv8"
      },
      "execution_count": null,
      "outputs": []
    },
    {
      "cell_type": "code",
      "source": [
        "model.fit(X_train, y_train)"
      ],
      "metadata": {
        "colab": {
          "base_uri": "https://localhost:8080/",
          "height": 74
        },
        "id": "ftVX6zQGUZ0S",
        "outputId": "d7791c6a-2a93-4dd7-f3db-9fd1d0c8fa3a"
      },
      "execution_count": null,
      "outputs": [
        {
          "output_type": "execute_result",
          "data": {
            "text/plain": [
              "LinearRegression()"
            ],
            "text/html": [
              "<style>#sk-container-id-1 {color: black;background-color: white;}#sk-container-id-1 pre{padding: 0;}#sk-container-id-1 div.sk-toggleable {background-color: white;}#sk-container-id-1 label.sk-toggleable__label {cursor: pointer;display: block;width: 100%;margin-bottom: 0;padding: 0.3em;box-sizing: border-box;text-align: center;}#sk-container-id-1 label.sk-toggleable__label-arrow:before {content: \"▸\";float: left;margin-right: 0.25em;color: #696969;}#sk-container-id-1 label.sk-toggleable__label-arrow:hover:before {color: black;}#sk-container-id-1 div.sk-estimator:hover label.sk-toggleable__label-arrow:before {color: black;}#sk-container-id-1 div.sk-toggleable__content {max-height: 0;max-width: 0;overflow: hidden;text-align: left;background-color: #f0f8ff;}#sk-container-id-1 div.sk-toggleable__content pre {margin: 0.2em;color: black;border-radius: 0.25em;background-color: #f0f8ff;}#sk-container-id-1 input.sk-toggleable__control:checked~div.sk-toggleable__content {max-height: 200px;max-width: 100%;overflow: auto;}#sk-container-id-1 input.sk-toggleable__control:checked~label.sk-toggleable__label-arrow:before {content: \"▾\";}#sk-container-id-1 div.sk-estimator input.sk-toggleable__control:checked~label.sk-toggleable__label {background-color: #d4ebff;}#sk-container-id-1 div.sk-label input.sk-toggleable__control:checked~label.sk-toggleable__label {background-color: #d4ebff;}#sk-container-id-1 input.sk-hidden--visually {border: 0;clip: rect(1px 1px 1px 1px);clip: rect(1px, 1px, 1px, 1px);height: 1px;margin: -1px;overflow: hidden;padding: 0;position: absolute;width: 1px;}#sk-container-id-1 div.sk-estimator {font-family: monospace;background-color: #f0f8ff;border: 1px dotted black;border-radius: 0.25em;box-sizing: border-box;margin-bottom: 0.5em;}#sk-container-id-1 div.sk-estimator:hover {background-color: #d4ebff;}#sk-container-id-1 div.sk-parallel-item::after {content: \"\";width: 100%;border-bottom: 1px solid gray;flex-grow: 1;}#sk-container-id-1 div.sk-label:hover label.sk-toggleable__label {background-color: #d4ebff;}#sk-container-id-1 div.sk-serial::before {content: \"\";position: absolute;border-left: 1px solid gray;box-sizing: border-box;top: 0;bottom: 0;left: 50%;z-index: 0;}#sk-container-id-1 div.sk-serial {display: flex;flex-direction: column;align-items: center;background-color: white;padding-right: 0.2em;padding-left: 0.2em;position: relative;}#sk-container-id-1 div.sk-item {position: relative;z-index: 1;}#sk-container-id-1 div.sk-parallel {display: flex;align-items: stretch;justify-content: center;background-color: white;position: relative;}#sk-container-id-1 div.sk-item::before, #sk-container-id-1 div.sk-parallel-item::before {content: \"\";position: absolute;border-left: 1px solid gray;box-sizing: border-box;top: 0;bottom: 0;left: 50%;z-index: -1;}#sk-container-id-1 div.sk-parallel-item {display: flex;flex-direction: column;z-index: 1;position: relative;background-color: white;}#sk-container-id-1 div.sk-parallel-item:first-child::after {align-self: flex-end;width: 50%;}#sk-container-id-1 div.sk-parallel-item:last-child::after {align-self: flex-start;width: 50%;}#sk-container-id-1 div.sk-parallel-item:only-child::after {width: 0;}#sk-container-id-1 div.sk-dashed-wrapped {border: 1px dashed gray;margin: 0 0.4em 0.5em 0.4em;box-sizing: border-box;padding-bottom: 0.4em;background-color: white;}#sk-container-id-1 div.sk-label label {font-family: monospace;font-weight: bold;display: inline-block;line-height: 1.2em;}#sk-container-id-1 div.sk-label-container {text-align: center;}#sk-container-id-1 div.sk-container {/* jupyter's `normalize.less` sets `[hidden] { display: none; }` but bootstrap.min.css set `[hidden] { display: none !important; }` so we also need the `!important` here to be able to override the default hidden behavior on the sphinx rendered scikit-learn.org. See: https://github.com/scikit-learn/scikit-learn/issues/21755 */display: inline-block !important;position: relative;}#sk-container-id-1 div.sk-text-repr-fallback {display: none;}</style><div id=\"sk-container-id-1\" class=\"sk-top-container\"><div class=\"sk-text-repr-fallback\"><pre>LinearRegression()</pre><b>In a Jupyter environment, please rerun this cell to show the HTML representation or trust the notebook. <br />On GitHub, the HTML representation is unable to render, please try loading this page with nbviewer.org.</b></div><div class=\"sk-container\" hidden><div class=\"sk-item\"><div class=\"sk-estimator sk-toggleable\"><input class=\"sk-toggleable__control sk-hidden--visually\" id=\"sk-estimator-id-1\" type=\"checkbox\" checked><label for=\"sk-estimator-id-1\" class=\"sk-toggleable__label sk-toggleable__label-arrow\">LinearRegression</label><div class=\"sk-toggleable__content\"><pre>LinearRegression()</pre></div></div></div></div></div>"
            ]
          },
          "metadata": {},
          "execution_count": 17
        }
      ]
    },
    {
      "cell_type": "code",
      "source": [
        "predicted = model.predict(X_test)\n",
        "print(predicted)\n",
        "\n",
        "for i in predicted:\n",
        "  print(f\"Model predicted Score: {i:.2f}\")"
      ],
      "metadata": {
        "colab": {
          "base_uri": "https://localhost:8080/"
        },
        "id": "8zBjaceqUyGW",
        "outputId": "e41b307c-6389-4c57-cbb8-e33cccde409f"
      },
      "execution_count": null,
      "outputs": [
        {
          "output_type": "stream",
          "name": "stdout",
          "text": [
            "[5726204.52357893 5337974.09493708 3552650.03256632 4689344.78644828\n",
            " 4194615.11240382 5321846.97261957 6125681.39949983 5409565.16745509\n",
            " 3215207.48693686 3779710.70241116 6784021.16986053 3613231.92355717\n",
            " 3453343.97368573 3935692.34687903 4211254.28186238 4167847.28249267\n",
            " 2871800.30090186 5053819.64092425 4918888.75416767 4278741.20541833\n",
            " 4748102.38205909 5426490.29602666 3400177.97509897 4297837.62312579\n",
            " 5931216.39105603 6547079.40776877 3296850.28207682 3960395.07749634\n",
            " 7950666.63977394 3121618.50025614 4261171.79023803 4019929.19918355\n",
            " 5155736.66769909 5382818.81772159 5325725.03355361 4431446.11520557\n",
            " 4589519.91613478 4703748.22623796 4020176.76738923 4423099.97707973\n",
            " 5864147.66608079 3430987.73202731 5306777.7660435  4453819.26759367\n",
            " 4622165.30218301 4335813.50940865 5130257.41100538 5171164.20177086\n",
            " 5090886.76166303 3121618.50025614 5590783.06985897 3274494.0404184\n",
            " 4981699.61053552 4430669.58912916 4870387.48902916 3848861.43740994\n",
            " 4981810.36982554 3611765.95567283 5940679.28472226 3573717.70100729\n",
            " 3357425.4087758  3597605.51464085 4501279.52772041 3911407.81484242\n",
            " 4778769.75308194 4256760.2019853  4601891.07054812 3896696.93576206\n",
            " 6637391.65976886 4962312.66426706 3774505.67735233 5219682.37763905\n",
            " 5380246.24073468 6846832.02622838 2998393.00112652 5137638.29464808\n",
            " 4180586.91083953 3880343.72541653 5104778.15431167 4704413.99302434\n",
            " 5854624.90132957 4292368.11913161 4820623.70029885 5302349.26706108\n",
            " 3402496.21958833 5000002.5914369  3805966.48518127 4110395.17082898\n",
            " 6267976.25916943 5676022.53626791 4892457.77157456 5776787.79874097\n",
            " 4229881.61278412 4107536.63472905 7406224.0652042  4804607.33727136\n",
            " 5608950.42914673 5039526.96042459 4795144.44360513 5948213.88801029\n",
            " 4079463.32087077 4495144.25693984 3808560.54234584 4013683.16911297\n",
            " 5816158.44808332 6076898.74469628 5828898.07643018 4990121.49918997\n",
            " 5016377.28196009]\n",
            "Model predicted Score: 5726204.52\n",
            "Model predicted Score: 5337974.09\n",
            "Model predicted Score: 3552650.03\n",
            "Model predicted Score: 4689344.79\n",
            "Model predicted Score: 4194615.11\n",
            "Model predicted Score: 5321846.97\n",
            "Model predicted Score: 6125681.40\n",
            "Model predicted Score: 5409565.17\n",
            "Model predicted Score: 3215207.49\n",
            "Model predicted Score: 3779710.70\n",
            "Model predicted Score: 6784021.17\n",
            "Model predicted Score: 3613231.92\n",
            "Model predicted Score: 3453343.97\n",
            "Model predicted Score: 3935692.35\n",
            "Model predicted Score: 4211254.28\n",
            "Model predicted Score: 4167847.28\n",
            "Model predicted Score: 2871800.30\n",
            "Model predicted Score: 5053819.64\n",
            "Model predicted Score: 4918888.75\n",
            "Model predicted Score: 4278741.21\n",
            "Model predicted Score: 4748102.38\n",
            "Model predicted Score: 5426490.30\n",
            "Model predicted Score: 3400177.98\n",
            "Model predicted Score: 4297837.62\n",
            "Model predicted Score: 5931216.39\n",
            "Model predicted Score: 6547079.41\n",
            "Model predicted Score: 3296850.28\n",
            "Model predicted Score: 3960395.08\n",
            "Model predicted Score: 7950666.64\n",
            "Model predicted Score: 3121618.50\n",
            "Model predicted Score: 4261171.79\n",
            "Model predicted Score: 4019929.20\n",
            "Model predicted Score: 5155736.67\n",
            "Model predicted Score: 5382818.82\n",
            "Model predicted Score: 5325725.03\n",
            "Model predicted Score: 4431446.12\n",
            "Model predicted Score: 4589519.92\n",
            "Model predicted Score: 4703748.23\n",
            "Model predicted Score: 4020176.77\n",
            "Model predicted Score: 4423099.98\n",
            "Model predicted Score: 5864147.67\n",
            "Model predicted Score: 3430987.73\n",
            "Model predicted Score: 5306777.77\n",
            "Model predicted Score: 4453819.27\n",
            "Model predicted Score: 4622165.30\n",
            "Model predicted Score: 4335813.51\n",
            "Model predicted Score: 5130257.41\n",
            "Model predicted Score: 5171164.20\n",
            "Model predicted Score: 5090886.76\n",
            "Model predicted Score: 3121618.50\n",
            "Model predicted Score: 5590783.07\n",
            "Model predicted Score: 3274494.04\n",
            "Model predicted Score: 4981699.61\n",
            "Model predicted Score: 4430669.59\n",
            "Model predicted Score: 4870387.49\n",
            "Model predicted Score: 3848861.44\n",
            "Model predicted Score: 4981810.37\n",
            "Model predicted Score: 3611765.96\n",
            "Model predicted Score: 5940679.28\n",
            "Model predicted Score: 3573717.70\n",
            "Model predicted Score: 3357425.41\n",
            "Model predicted Score: 3597605.51\n",
            "Model predicted Score: 4501279.53\n",
            "Model predicted Score: 3911407.81\n",
            "Model predicted Score: 4778769.75\n",
            "Model predicted Score: 4256760.20\n",
            "Model predicted Score: 4601891.07\n",
            "Model predicted Score: 3896696.94\n",
            "Model predicted Score: 6637391.66\n",
            "Model predicted Score: 4962312.66\n",
            "Model predicted Score: 3774505.68\n",
            "Model predicted Score: 5219682.38\n",
            "Model predicted Score: 5380246.24\n",
            "Model predicted Score: 6846832.03\n",
            "Model predicted Score: 2998393.00\n",
            "Model predicted Score: 5137638.29\n",
            "Model predicted Score: 4180586.91\n",
            "Model predicted Score: 3880343.73\n",
            "Model predicted Score: 5104778.15\n",
            "Model predicted Score: 4704413.99\n",
            "Model predicted Score: 5854624.90\n",
            "Model predicted Score: 4292368.12\n",
            "Model predicted Score: 4820623.70\n",
            "Model predicted Score: 5302349.27\n",
            "Model predicted Score: 3402496.22\n",
            "Model predicted Score: 5000002.59\n",
            "Model predicted Score: 3805966.49\n",
            "Model predicted Score: 4110395.17\n",
            "Model predicted Score: 6267976.26\n",
            "Model predicted Score: 5676022.54\n",
            "Model predicted Score: 4892457.77\n",
            "Model predicted Score: 5776787.80\n",
            "Model predicted Score: 4229881.61\n",
            "Model predicted Score: 4107536.63\n",
            "Model predicted Score: 7406224.07\n",
            "Model predicted Score: 4804607.34\n",
            "Model predicted Score: 5608950.43\n",
            "Model predicted Score: 5039526.96\n",
            "Model predicted Score: 4795144.44\n",
            "Model predicted Score: 5948213.89\n",
            "Model predicted Score: 4079463.32\n",
            "Model predicted Score: 4495144.26\n",
            "Model predicted Score: 3808560.54\n",
            "Model predicted Score: 4013683.17\n",
            "Model predicted Score: 5816158.45\n",
            "Model predicted Score: 6076898.74\n",
            "Model predicted Score: 5828898.08\n",
            "Model predicted Score: 4990121.50\n",
            "Model predicted Score: 5016377.28\n"
          ]
        }
      ]
    },
    {
      "cell_type": "code",
      "source": [
        "# user_input\n",
        "\n",
        "user_area = int(input(\"Enter Area Size: \"))\n",
        "user_Bedrom_Qty = int(input(\"Enter Bedrooms Qty: \"))\n",
        "user_hm_age = float(input(\"Enter age of home: \"))\n",
        "user_data = np.array([[user_area, user_Bedrom_Qty, user_hm_age]])\n",
        "prediction = model.predict(user_data)\n",
        "\n",
        "for i in prediction:\n",
        "  print(f\"The Home Price of this location is:{i:.2f}\")"
      ],
      "metadata": {
        "colab": {
          "base_uri": "https://localhost:8080/"
        },
        "id": "5wRCHsJoU-UA",
        "outputId": "f47b01a4-321f-4005-8c3f-34509c03668e"
      },
      "execution_count": null,
      "outputs": [
        {
          "output_type": "stream",
          "name": "stdout",
          "text": [
            "Enter Area Size: 7420\n",
            "Enter Bedrooms Qty: 4\n",
            "Enter age of home: 4\n",
            "The Home Price of this location is:6267976.26\n"
          ]
        },
        {
          "output_type": "stream",
          "name": "stderr",
          "text": [
            "/usr/local/lib/python3.10/dist-packages/sklearn/base.py:439: UserWarning: X does not have valid feature names, but LinearRegression was fitted with feature names\n",
            "  warnings.warn(\n"
          ]
        }
      ]
    },
    {
      "cell_type": "code",
      "source": [],
      "metadata": {
        "id": "jOLicZSCXHBE"
      },
      "execution_count": null,
      "outputs": []
    }
  ]
}